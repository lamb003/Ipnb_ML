{
 "metadata": {
  "name": ""
 },
 "nbformat": 3,
 "nbformat_minor": 0,
 "worksheets": [
  {
   "cells": [
    {
     "cell_type": "markdown",
     "metadata": {},
     "source": [
      "####Simple Linear Regression tests one input variable against another to determine the linear relationship between the variables\n",
      "\n",
      "This can be shown by the hypothesis function:\n",
      "\n",
      "$$h(x) = \\theta^{T}X = \\theta_{0} + \\theta_{1}x_{1}$$"
     ]
    },
    {
     "cell_type": "code",
     "collapsed": false,
     "input": [
      "#import the necessary packages\n",
      "import pandas as pd\n",
      "import numpy as np\n",
      "from sklearn import linear_model"
     ],
     "language": "python",
     "metadata": {},
     "outputs": [],
     "prompt_number": 1
    },
    {
     "cell_type": "code",
     "collapsed": false,
     "input": [
      "# Read and prepare the data\n",
      "data = np.array(pd.read_csv(\"data/simple.txt\", header = None))\n",
      "Y = data[:,-1]\n",
      "X = data[:,:-1]"
     ],
     "language": "python",
     "metadata": {},
     "outputs": [],
     "prompt_number": 2
    },
    {
     "cell_type": "code",
     "collapsed": false,
     "input": [
      "LinearFit = linear_model.LinearRegression(fit_intercept = True)\n",
      "LinearFit = LinearFit.fit(X,Y)"
     ],
     "language": "python",
     "metadata": {},
     "outputs": [],
     "prompt_number": 3
    },
    {
     "cell_type": "code",
     "collapsed": false,
     "input": [
      "# visualize the Results\n",
      "\n",
      "%matplotlib inline\n",
      "#we can visualize in 2D\n",
      "import matplotlib.pyplot as plt\n",
      "plt.style.use('ggplot')\n",
      "\n",
      "fig = plt.figure()\n",
      "ax = fig.add_subplot(111)\n",
      "ax.plot(data[:,0],data[:,1],\"o\", color = 'b')\n",
      "ax.set_xlabel('X')\n",
      "ax.set_ylabel('Y')\n",
      "#get regression line\n",
      "x_plt = [min(X)[0],max(X)[0]]\n",
      "y_plt = [x_plt[0] * LinearFit.coef_[0] + LinearFit.intercept_,\n",
      "         x_plt[1] * LinearFit.coef_[0] + LinearFit.intercept_]\n",
      "\n",
      "ax.plot(x_plt, y_plt, 'k-', color = 'r') \n",
      "plt.show()\n",
      "    "
     ],
     "language": "python",
     "metadata": {},
     "outputs": [
      {
       "metadata": {},
       "output_type": "display_data",
       "png": "[encoded data removed]",
       "text": [
        "<matplotlib.figure.Figure at 0x7fd413c1ee50>"
       ]
      }
     ],
     "prompt_number": 4
    },
    {
     "cell_type": "code",
     "collapsed": false,
     "input": [
      "print LinearFit.score(X,Y)"
     ],
     "language": "python",
     "metadata": {},
     "outputs": [
      {
       "output_type": "stream",
       "stream": "stdout",
       "text": [
        "0.702031553784\n"
       ]
      }
     ],
     "prompt_number": 6
    },
    {
     "cell_type": "code",
     "collapsed": false,
     "input": [],
     "language": "python",
     "metadata": {},
     "outputs": []
    }
   ],
   "metadata": {}
  }
 ]
}